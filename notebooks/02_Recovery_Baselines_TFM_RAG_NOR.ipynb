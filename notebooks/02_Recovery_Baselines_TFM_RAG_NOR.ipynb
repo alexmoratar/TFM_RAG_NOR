{
 "cells": [
  {
   "cell_type": "markdown",
   "id": "2f8e218a",
   "metadata": {},
   "source": [
    "## Índice\n",
    "\n",
    "1. [Introducción y objetivos](#1-introducción-y-objetivos)\n",
    "2. [Carga de datos y preparación](#2-carga-de-datos-y-preparación)\n",
    "3. [Embeddings y indexación](#3-embeddings-y-indexación)\n",
    "    - 3.1. [Embeddings MiniLM](#31-embeddings-minilm)\n",
    "    - 3.2. [Embeddings MPNet](#32-embeddings-mpnet)\n",
    "4. [Construcción y guardado de índices FAISS](#4-construcción-y-guardado-de-índices-faiss)\n",
    "5. [Construcción del índice BM25](#4-construcción-del-índice-BM25)\n",
    "\n",
    "---\n",
    "\n",
    "## 1. Introducción y objetivos\n",
    "\n",
    "En este notebook preparo y guardo los sistemas de recuperación sobre el corpus normativo ya procesado, usando tanto modelos de embeddings como BM25. El objetivo es dejar listos los índices y funciones de búsqueda para poder comparar métodos más adelante.\n",
    "\n",
    "---\n",
    "\n",
    "## 2. Carga de datos y preparación\n",
    "\n",
    "Se carga el corpus procesado desde el archivo JSON y se extraen los textos, los IDs y los metadatos de cada chunk.\n"
   ]
  },
  {
   "cell_type": "code",
   "execution_count": 3,
   "id": "cce29162",
   "metadata": {},
   "outputs": [
    {
     "name": "stdout",
     "output_type": "stream",
     "text": [
      "Número de chunks cargados: 357\n",
      "Ejemplo de chunk:\n",
      "{'pdf': 'oecd_ai_classification_framework.pdf', 'pages': [16], 'titles': ['16     OECD FRAMEWORK FOR THE CLASSIFICATION OF AI SYSTEMS'], 'chunk_index': 1, 'text': '16 OECD FRAMEWORK FOR THE CLASSIFICATION OF AI SYSTEMS OECD 2022 Different types of AI systems raise different policy opportunities and challenges. Section 2 of this report introduces and describes a framework to assess AI systems impact on public policy in areas covered by the OECD AI Principles (OECD, 2019d[1]). Section 3 puts the framework into use to classify specific AI systems and applications. Section 4 discusses how the framework could be used to help assess basic social, physical and ethical risks associated with specific types of AI systems. Introducing the framework and its purpose The framework primary purpose is to characterise the application of an AI system deployed in a specific project and context, although some dimensions are also relevant to generic AI systems. It classifies AI systems and applications along the following dimensions: People & Planet, Economic Context, Data & Input, AI Model and Task & Output (Figure 1). These dimensions build on the conceptual view of a generic AI system established in previous OECD work (see Box 1 later in this section). Figure 1. Key high-level dimensions of the OECD Framework for the Classification of AI Systems The AI Principles as a lens for analysing policy considerations Each of the framework s dimensions has distinct properties and attributes, or sub-dimensions that are relevant to assessing policy considerations associated with a particular AI system. The 10 OECD AI Principles, adopted in 2019, help structure the analysis of policy considerations associated with each dimension and sub-dimension. The Principles cover the following themes: Table 1. The OECD AI Principles Values-based principles for all AI actors Recommendations to policy makers for AI policies Principle 1.1. People and planet Principle 2.1. Investment in R&D Principle 1.2. Human rights, privacy, fairness Principle 2.2. Data, compute, technologies Principle 1.3. Transparency, explainability Principle 2.3. Enabling', 'n_words': 300}\n"
     ]
    }
   ],
   "source": [
    "import json\n",
    "\n",
    "with open(\"../data/chunks/corpus_chunks_300w.json\", \"r\", encoding=\"utf-8\") as f:\n",
    "    corpus = json.load(f)\n",
    "\n",
    "print(f\"Número de chunks cargados: {len(corpus)}\")\n",
    "print(\"Ejemplo de chunk:\")\n",
    "print(corpus[0])\n"
   ]
  },
  {
   "cell_type": "markdown",
   "id": "fc6420dc",
   "metadata": {},
   "source": [
    "### Preparación de listas de textos, IDs y metadatos\n",
    "\n",
    "Se separan los textos, los identificadores y los metadatos de cada chunk en listas distintas para que luego sea más fácil generar los embeddings, buscar resultados y mostrar información relevante.\n"
   ]
  },
  {
   "cell_type": "code",
   "execution_count": 5,
   "id": "e64173c5",
   "metadata": {},
   "outputs": [
    {
     "name": "stdout",
     "output_type": "stream",
     "text": [
      "Ejemplo de texto: 16 OECD FRAMEWORK FOR THE CLASSIFICATION OF AI SYSTEMS OECD 2022 Different types...\n",
      "Ejemplo de ID: oecd_ai_classification_framework.pdf_1\n",
      "Ejemplo de metadatos: {'pdf': 'oecd_ai_classification_framework.pdf', 'pages': [16], 'titles': ['16     OECD FRAMEWORK FOR THE CLASSIFICATION OF AI SYSTEMS'], 'chunk_index': 1, 'n_words': 300}\n"
     ]
    }
   ],
   "source": [
    "texts = []\n",
    "ids = []\n",
    "metadatos = []\n",
    "\n",
    "for i, chunk in enumerate(corpus):\n",
    "    texts.append(chunk[\"text\"])\n",
    "    # ID único tipo \"pdf_chunkindex\"\n",
    "    ids.append(f'{chunk[\"pdf\"]}_{chunk[\"chunk_index\"]}')\n",
    "    # Metadatos\n",
    "    meta = chunk.copy()\n",
    "    meta.pop(\"text\")\n",
    "    metadatos.append(meta)\n",
    "\n",
    "print(f\"Ejemplo de texto: {texts[0][:80]}...\")\n",
    "print(f\"Ejemplo de ID: {ids[0]}\")\n",
    "print(f\"Ejemplo de metadatos: {metadatos[0]}\")\n"
   ]
  },
  {
   "cell_type": "code",
   "execution_count": 7,
   "id": "40c93f9d",
   "metadata": {},
   "outputs": [
    {
     "name": "stdout",
     "output_type": "stream",
     "text": [
      "Listas guardadas en data/chunks/\n"
     ]
    }
   ],
   "source": [
    "import os\n",
    "\n",
    "os.makedirs(\"../data/chunks\", exist_ok=True)\n",
    "\n",
    "with open(\"../data/chunks/texts.json\", \"w\", encoding=\"utf-8\") as f:\n",
    "    json.dump(texts, f, ensure_ascii=False, indent=2)\n",
    "\n",
    "with open(\"../data/chunks/ids.json\", \"w\", encoding=\"utf-8\") as f:\n",
    "    json.dump(ids, f, ensure_ascii=False, indent=2)\n",
    "\n",
    "with open(\"../data/chunks/metadata.json\", \"w\", encoding=\"utf-8\") as f:\n",
    "    json.dump(metadatos, f, ensure_ascii=False, indent=2)\n",
    "\n",
    "print(\"Listas guardadas en data/chunks/\")\n"
   ]
  },
  {
   "cell_type": "markdown",
   "id": "6c15a9b9",
   "metadata": {},
   "source": [
    "---\n",
    "## 3. Embeddings y indexación\n",
    "\n",
    "Se generan los embeddings de cada chunk usando modelos preentrenados y se guardan para poder construir los índices y hacer búsquedas más adelante. MiniLM y MPNet.\n"
   ]
  },
  {
   "cell_type": "code",
   "execution_count": 8,
   "id": "eef9e1a6",
   "metadata": {},
   "outputs": [
    {
     "name": "stderr",
     "output_type": "stream",
     "text": [
      "d:\\TFM_RAG_NOR\\venv\\Lib\\site-packages\\tqdm\\auto.py:21: TqdmWarning: IProgress not found. Please update jupyter and ipywidgets. See https://ipywidgets.readthedocs.io/en/stable/user_install.html\n",
      "  from .autonotebook import tqdm as notebook_tqdm\n",
      "Batches:   0%|          | 0/12 [00:00<?, ?it/s]d:\\TFM_RAG_NOR\\venv\\Lib\\site-packages\\torch\\nn\\modules\\module.py:1762: FutureWarning: `encoder_attention_mask` is deprecated and will be removed in version 4.55.0 for `BertSdpaSelfAttention.forward`.\n",
      "  return forward_call(*args, **kwargs)\n",
      "Batches: 100%|██████████| 12/12 [00:29<00:00,  2.49s/it]"
     ]
    },
    {
     "name": "stdout",
     "output_type": "stream",
     "text": [
      "Embeddings MiniLM generados y guardados. Tiempo: 29.97 s\n"
     ]
    },
    {
     "name": "stderr",
     "output_type": "stream",
     "text": [
      "\n"
     ]
    }
   ],
   "source": [
    "from sentence_transformers import SentenceTransformer\n",
    "import numpy as np\n",
    "import time\n",
    "import os\n",
    "import json\n",
    "\n",
    "os.makedirs(\"../data/embeddings\", exist_ok=True)\n",
    "os.makedirs(\"../results\", exist_ok=True)\n",
    "\n",
    "# Modelo MiniLM\n",
    "model_minilm = SentenceTransformer(\"sentence-transformers/all-MiniLM-L6-v2\")\n",
    "\n",
    "start = time.time()\n",
    "embeddings_minilm = model_minilm.encode(texts, show_progress_bar=True, batch_size=32, normalize_embeddings=True)\n",
    "elapsed_minilm = time.time() - start\n",
    "\n",
    "# Guardar embeddings\n",
    "np.save(\"../data/embeddings/embeddings_minilm.npy\", embeddings_minilm)\n",
    "\n",
    "# Guardar tiempo\n",
    "result_minilm = {\"modelo\": \"all-MiniLM-L6-v2\", \"tiempo_segundos\": elapsed_minilm, \"n_chunks\": len(texts)}\n",
    "with open(\"../results/embeddings_time_minilm.json\", \"w\") as f:\n",
    "    json.dump(result_minilm, f, indent=2)\n",
    "\n",
    "print(f\"Embeddings MiniLM generados y guardados. Tiempo: {elapsed_minilm:.2f} s\")\n"
   ]
  },
  {
   "cell_type": "code",
   "execution_count": 9,
   "id": "45db87fe",
   "metadata": {},
   "outputs": [
    {
     "name": "stderr",
     "output_type": "stream",
     "text": [
      "Batches: 100%|██████████| 12/12 [05:33<00:00, 27.78s/it]\n"
     ]
    },
    {
     "name": "stdout",
     "output_type": "stream",
     "text": [
      "Embeddings MPNet generados y guardados. Tiempo: 333.45 s\n"
     ]
    }
   ],
   "source": [
    "# Modelo MPNet\n",
    "model_mpnet = SentenceTransformer(\"sentence-transformers/all-mpnet-base-v2\")\n",
    "\n",
    "start = time.time()\n",
    "embeddings_mpnet = model_mpnet.encode(texts, show_progress_bar=True, batch_size=32, normalize_embeddings=True)\n",
    "elapsed_mpnet = time.time() - start\n",
    "\n",
    "# Guardar embeddings\n",
    "np.save(\"../data/embeddings/embeddings_mpnet.npy\", embeddings_mpnet)\n",
    "\n",
    "# Guardar tiempo\n",
    "result_mpnet = {\"modelo\": \"all-mpnet-base-v2\", \"tiempo_segundos\": elapsed_mpnet, \"n_chunks\": len(texts)}\n",
    "with open(\"../results/embeddings_time_mpnet.json\", \"w\") as f:\n",
    "    json.dump(result_mpnet, f, indent=2)\n",
    "\n",
    "print(f\"Embeddings MPNet generados y guardados. Tiempo: {elapsed_mpnet:.2f} s\")\n"
   ]
  },
  {
   "cell_type": "markdown",
   "id": "e52967a0",
   "metadata": {},
   "source": [
    "Los embeddings de MiniLM se han generado en medio minuto y los de MPNet en algo más de 5 minutos. En ambos casos, el proceso ha sido sencillo y se han guardado los archivos y los tiempos para referencias.\n",
    "\n",
    "---\n",
    "\n",
    "## 4. Construcción y guardado de índices FAISS\n",
    "\n",
    "Se construyen los índices FAISS para los embeddings generados y se guardan los archivos resultantes.\n"
   ]
  },
  {
   "cell_type": "code",
   "execution_count": 10,
   "id": "b2fe5876",
   "metadata": {},
   "outputs": [
    {
     "name": "stdout",
     "output_type": "stream",
     "text": [
      "Índice FAISS MiniLM guardado.\n"
     ]
    }
   ],
   "source": [
    "import faiss\n",
    "import numpy as np\n",
    "import os\n",
    "import json\n",
    "\n",
    "os.makedirs(\"../data/faiss_index\", exist_ok=True)\n",
    "\n",
    "embeddings_minilm = np.load(\"../data/embeddings/embeddings_minilm.npy\")\n",
    "\n",
    "# similar coseno con L2 normalizado)\n",
    "dim = embeddings_minilm.shape[1]\n",
    "index_minilm = faiss.IndexFlatIP(dim)\n",
    "index_minilm.add(embeddings_minilm)\n",
    "\n",
    "faiss.write_index(index_minilm, \"../data/faiss_index/faiss_index_minilm.faiss\")\n",
    "\n",
    "print(f\"Índice FAISS MiniLM guardado.\")\n"
   ]
  },
  {
   "cell_type": "code",
   "execution_count": 11,
   "id": "5054b65f",
   "metadata": {},
   "outputs": [
    {
     "name": "stdout",
     "output_type": "stream",
     "text": [
      "Índice FAISS MPNet guardado.\n"
     ]
    }
   ],
   "source": [
    "# MPNet\n",
    "embeddings_mpnet = np.load(\"../data/embeddings/embeddings_mpnet.npy\")\n",
    "\n",
    "dim = embeddings_mpnet.shape[1]\n",
    "index_mpnet = faiss.IndexFlatIP(dim)\n",
    "index_mpnet.add(embeddings_mpnet)\n",
    "\n",
    "faiss.write_index(index_mpnet, \"../data/faiss_index/faiss_index_mpnet.faiss\")\n",
    "\n",
    "print(f\"Índice FAISS MPNet guardado.\")\n"
   ]
  },
  {
   "cell_type": "markdown",
   "id": "9e5e74ed",
   "metadata": {},
   "source": [
    "### 4.1 Verificación básica de los embeddings\n",
    "\n",
    "Se comprueba que los embeddings tienen la forma esperada y que no hay valores raros o repetidos."
   ]
  },
  {
   "cell_type": "code",
   "execution_count": 15,
   "id": "cbbeb718",
   "metadata": {},
   "outputs": [
    {
     "name": "stdout",
     "output_type": "stream",
     "text": [
      "MiniLM shape: (357, 384)\n",
      "MPNet shape: (357, 768)\n",
      "MiniLM tiene NaN: False\n",
      "MPNet tiene NaN: False\n",
      "MiniLM tiene filas idénticas: False\n",
      "MPNet tiene filas idénticas: False\n",
      "MiniLM min/max: -0.24611469 0.23589705\n",
      "MPNet min/max: -0.17242333 0.18466605\n"
     ]
    }
   ],
   "source": [
    "import numpy as np\n",
    "\n",
    "# Cargar embeddings MiniLM y MPNet\n",
    "embeddings_minilm = np.load(\"../data/embeddings/embeddings_minilm.npy\")\n",
    "embeddings_mpnet = np.load(\"../data/embeddings/embeddings_mpnet.npy\")\n",
    "\n",
    "# Shape esperado\n",
    "print(\"MiniLM shape:\", embeddings_minilm.shape)\n",
    "print(\"MPNet shape:\", embeddings_mpnet.shape)\n",
    "\n",
    "# Comprobar valores NaN\n",
    "print(\"MiniLM tiene NaN:\", np.isnan(embeddings_minilm).any())\n",
    "print(\"MPNet tiene NaN:\", np.isnan(embeddings_mpnet).any())\n",
    "\n",
    "# filas idénticas\n",
    "mini_dupes = np.unique(embeddings_minilm, axis=0).shape[0] != embeddings_minilm.shape[0]\n",
    "mpnet_dupes = np.unique(embeddings_mpnet, axis=0).shape[0] != embeddings_mpnet.shape[0]\n",
    "print(\"MiniLM tiene filas idénticas:\", mini_dupes)\n",
    "print(\"MPNet tiene filas idénticas:\", mpnet_dupes)\n",
    "\n",
    "print(\"MiniLM min/max:\", embeddings_minilm.min(), embeddings_minilm.max())\n",
    "print(\"MPNet min/max:\", embeddings_mpnet.min(), embeddings_mpnet.max())"
   ]
  },
  {
   "cell_type": "markdown",
   "id": "97f11b7c",
   "metadata": {},
   "source": [
    "Los embeddings de ambos modelos tienen la forma esperada y no hay valores raros ni filas repetidas. Todo OK.\n",
    "\n",
    "### 4.2 Comprobación del funcionamiento del índice FAISS\n",
    "\n",
    "Se verifica que el índice FAISS carga bien y que, buscando el embedding de un chunk, se recupera correctamente a sí mismo en primer lugar.\n"
   ]
  },
  {
   "cell_type": "code",
   "execution_count": 16,
   "id": "f6ccdebe",
   "metadata": {},
   "outputs": [
    {
     "name": "stdout",
     "output_type": "stream",
     "text": [
      "Top-5 índices recuperados: [ 0 11  1  9 19]\n",
      "Distancias/similaridades: [1.         0.83720756 0.79155463 0.7829906  0.7818232 ]\n",
      "¿El primero recuperado es el mismo chunk? True\n"
     ]
    }
   ],
   "source": [
    "import faiss\n",
    "\n",
    "index_minilm = faiss.read_index(\"../data/faiss_index/faiss_index_minilm.faiss\")\n",
    "\n",
    "# Buscar el embedding de un chunk concreto\n",
    "query_vec = embeddings_minilm[0].reshape(1, -1)\n",
    "D, I = index_minilm.search(query_vec, k=5)  # k=5 para ver top resultados\n",
    "\n",
    "print(\"Top-5 índices recuperados:\", I[0])\n",
    "print(\"Distancias/similaridades:\", D[0])\n",
    "print(\"¿El primero recuperado es el mismo chunk?\", I[0][0] == 0)\n"
   ]
  },
  {
   "cell_type": "markdown",
   "id": "85813b22",
   "metadata": {},
   "source": [
    "El índice FAISS recupera correctamente el propio chunk como el más similar. Los vecinos cercanos también tienen valores altos de similitud, así que parece que la indexación está bien.\n",
    "\n",
    "### 4.3 Exploración de similitud entre chunks\n",
    "\n",
    "Se calculan las similitudes entre algunos chunks al azar para ver si hay diferencias claras según el origen del PDF.\n"
   ]
  },
  {
   "cell_type": "code",
   "execution_count": 17,
   "id": "688cf2f4",
   "metadata": {},
   "outputs": [
    {
     "name": "stdout",
     "output_type": "stream",
     "text": [
      "Similitud entre chunks del mismo PDF: 0.4871\n",
      "Similitud entre chunks de PDFs distintos: 0.3119\n"
     ]
    }
   ],
   "source": [
    "import random\n",
    "\n",
    "i = random.randint(0, len(embeddings_minilm)-1)\n",
    "# Buscar otro del mismo PDF\n",
    "pdf_actual = metadatos[i][\"pdf\"]\n",
    "mismos_pdf = [idx for idx, m in enumerate(metadatos) if m[\"pdf\"] == pdf_actual and idx != i]\n",
    "distinto_pdf = [idx for idx, m in enumerate(metadatos) if m[\"pdf\"] != pdf_actual]\n",
    "\n",
    "if mismos_pdf and distinto_pdf:\n",
    "    j = random.choice(mismos_pdf)\n",
    "    k = random.choice(distinto_pdf)\n",
    "\n",
    "    # Producto escalar\n",
    "    sim_same = float(np.dot(embeddings_minilm[i], embeddings_minilm[j]))\n",
    "    sim_diff = float(np.dot(embeddings_minilm[i], embeddings_minilm[k]))\n",
    "    print(f\"Similitud entre chunks del mismo PDF: {sim_same:.4f}\")\n",
    "    print(f\"Similitud entre chunks de PDFs distintos: {sim_diff:.4f}\")\n",
    "else:\n",
    "    print(\"No se encuentran chunks adecuados para la comparación.\")\n"
   ]
  },
  {
   "cell_type": "markdown",
   "id": "33dfe1b5",
   "metadata": {},
   "source": [
    "La similitud entre chunks del mismo PDF es más alta que entre PDFs distintos. Esto tiene sentido, ya que suelen estar más relacionados. Los valores no son extremos.\n",
    "\n",
    "### 4.4 Visualización rápida de los embeddings\n",
    "\n",
    "Se representa una proyección 2D (PCA) de los embeddings para ver si se agrupan por documento o si están dispersos.\n"
   ]
  },
  {
   "cell_type": "code",
   "execution_count": 19,
   "id": "bb2eb12e",
   "metadata": {},
   "outputs": [
    {
     "name": "stdout",
     "output_type": "stream",
     "text": [
      "Collecting matplotlib\n",
      "  Downloading matplotlib-3.10.5-cp313-cp313-win_amd64.whl.metadata (11 kB)\n",
      "Collecting contourpy>=1.0.1 (from matplotlib)\n",
      "  Downloading contourpy-1.3.3-cp313-cp313-win_amd64.whl.metadata (5.5 kB)\n",
      "Collecting cycler>=0.10 (from matplotlib)\n",
      "  Using cached cycler-0.12.1-py3-none-any.whl.metadata (3.8 kB)\n",
      "Collecting fonttools>=4.22.0 (from matplotlib)\n",
      "  Downloading fonttools-4.59.0-cp313-cp313-win_amd64.whl.metadata (110 kB)\n",
      "Collecting kiwisolver>=1.3.1 (from matplotlib)\n",
      "  Using cached kiwisolver-1.4.8-cp313-cp313-win_amd64.whl.metadata (6.3 kB)\n",
      "Requirement already satisfied: numpy>=1.23 in d:\\tfm_rag_nor\\venv\\lib\\site-packages (from matplotlib) (2.3.2)\n",
      "Requirement already satisfied: packaging>=20.0 in d:\\tfm_rag_nor\\venv\\lib\\site-packages (from matplotlib) (25.0)\n",
      "Requirement already satisfied: pillow>=8 in d:\\tfm_rag_nor\\venv\\lib\\site-packages (from matplotlib) (11.3.0)\n",
      "Collecting pyparsing>=2.3.1 (from matplotlib)\n",
      "  Using cached pyparsing-3.2.3-py3-none-any.whl.metadata (5.0 kB)\n",
      "Requirement already satisfied: python-dateutil>=2.7 in d:\\tfm_rag_nor\\venv\\lib\\site-packages (from matplotlib) (2.9.0.post0)\n",
      "Requirement already satisfied: six>=1.5 in d:\\tfm_rag_nor\\venv\\lib\\site-packages (from python-dateutil>=2.7->matplotlib) (1.17.0)\n",
      "Downloading matplotlib-3.10.5-cp313-cp313-win_amd64.whl (8.1 MB)\n",
      "   ---------------------------------------- 0.0/8.1 MB ? eta -:--:--\n",
      "   ---------------------------------------- 0.0/8.1 MB ? eta -:--:--\n",
      "   ---------------------------------------- 0.0/8.1 MB ? eta -:--:--\n",
      "   ---------------------------------------- 0.0/8.1 MB ? eta -:--:--\n",
      "   ---------------------------------------- 0.0/8.1 MB ? eta -:--:--\n",
      "   ---------------------------------------- 0.0/8.1 MB ? eta -:--:--\n",
      "   - -------------------------------------- 0.3/8.1 MB ? eta -:--:--\n",
      "   - -------------------------------------- 0.3/8.1 MB ? eta -:--:--\n",
      "   - -------------------------------------- 0.3/8.1 MB ? eta -:--:--\n",
      "   - -------------------------------------- 0.3/8.1 MB ? eta -:--:--\n",
      "   - -------------------------------------- 0.3/8.1 MB ? eta -:--:--\n",
      "   -- ------------------------------------- 0.5/8.1 MB 259.2 kB/s eta 0:00:30\n",
      "   --- ------------------------------------ 0.8/8.1 MB 402.3 kB/s eta 0:00:19\n",
      "   ----- ---------------------------------- 1.0/8.1 MB 513.1 kB/s eta 0:00:14\n",
      "   ------ --------------------------------- 1.3/8.1 MB 583.8 kB/s eta 0:00:12\n",
      "   ------- -------------------------------- 1.6/8.1 MB 660.7 kB/s eta 0:00:10\n",
      "   --------- ------------------------------ 1.8/8.1 MB 713.4 kB/s eta 0:00:09\n",
      "   ---------- ----------------------------- 2.1/8.1 MB 751.3 kB/s eta 0:00:09\n",
      "   ----------- ---------------------------- 2.4/8.1 MB 800.4 kB/s eta 0:00:08\n",
      "   ------------ --------------------------- 2.6/8.1 MB 819.2 kB/s eta 0:00:07\n",
      "   ------------ --------------------------- 2.6/8.1 MB 819.2 kB/s eta 0:00:07\n",
      "   --------------- ------------------------ 3.1/8.1 MB 863.5 kB/s eta 0:00:06\n",
      "   --------------- ------------------------ 3.1/8.1 MB 863.5 kB/s eta 0:00:06\n",
      "   ------------------ --------------------- 3.7/8.1 MB 901.6 kB/s eta 0:00:05\n",
      "   ------------------- -------------------- 3.9/8.1 MB 916.9 kB/s eta 0:00:05\n",
      "   ------------------- -------------------- 3.9/8.1 MB 916.9 kB/s eta 0:00:05\n",
      "   --------------------- ------------------ 4.5/8.1 MB 947.9 kB/s eta 0:00:04\n",
      "   --------------------- ------------------ 4.5/8.1 MB 947.9 kB/s eta 0:00:04\n",
      "   ------------------------ --------------- 5.0/8.1 MB 968.3 kB/s eta 0:00:04\n",
      "   ------------------------- -------------- 5.2/8.1 MB 978.7 kB/s eta 0:00:03\n",
      "   ------------------------- -------------- 5.2/8.1 MB 978.7 kB/s eta 0:00:03\n",
      "   --------------------------- ------------ 5.5/8.1 MB 986.1 kB/s eta 0:00:03\n",
      "   ---------------------------- ----------- 5.8/8.1 MB 986.4 kB/s eta 0:00:03\n",
      "   ------------------------------- -------- 6.3/8.1 MB 1.0 MB/s eta 0:00:02\n",
      "   -------------------------------- ------- 6.6/8.1 MB 1.0 MB/s eta 0:00:02\n",
      "   --------------------------------- ------ 6.8/8.1 MB 1.0 MB/s eta 0:00:02\n",
      "   ---------------------------------- ----- 7.1/8.1 MB 1.1 MB/s eta 0:00:01\n",
      "   ------------------------------------ --- 7.3/8.1 MB 1.1 MB/s eta 0:00:01\n",
      "   ------------------------------------- -- 7.6/8.1 MB 1.1 MB/s eta 0:00:01\n",
      "   -------------------------------------- - 7.9/8.1 MB 1.1 MB/s eta 0:00:01\n",
      "   -------------------------------------- - 7.9/8.1 MB 1.1 MB/s eta 0:00:01\n",
      "   ---------------------------------------- 8.1/8.1 MB 1.0 MB/s eta 0:00:00\n",
      "Downloading contourpy-1.3.3-cp313-cp313-win_amd64.whl (226 kB)\n",
      "Using cached cycler-0.12.1-py3-none-any.whl (8.3 kB)\n",
      "Downloading fonttools-4.59.0-cp313-cp313-win_amd64.whl (2.2 MB)\n",
      "   ---------------------------------------- 0.0/2.2 MB ? eta -:--:--\n",
      "   ---------------------------------------- 0.0/2.2 MB ? eta -:--:--\n",
      "   ---- ----------------------------------- 0.3/2.2 MB ? eta -:--:--\n",
      "   ---- ----------------------------------- 0.3/2.2 MB ? eta -:--:--\n",
      "   --------- ------------------------------ 0.5/2.2 MB 710.7 kB/s eta 0:00:03\n",
      "   ------------- -------------------------- 0.8/2.2 MB 703.3 kB/s eta 0:00:03\n",
      "   ------------- -------------------------- 0.8/2.2 MB 703.3 kB/s eta 0:00:03\n",
      "   ----------------------- ---------------- 1.3/2.2 MB 943.2 kB/s eta 0:00:01\n",
      "   --------------------------- ------------ 1.6/2.2 MB 1.0 MB/s eta 0:00:01\n",
      "   ------------------------------------- -- 2.1/2.2 MB 1.2 MB/s eta 0:00:01\n",
      "   ---------------------------------------- 2.2/2.2 MB 1.2 MB/s eta 0:00:00\n",
      "Using cached kiwisolver-1.4.8-cp313-cp313-win_amd64.whl (71 kB)\n",
      "Using cached pyparsing-3.2.3-py3-none-any.whl (111 kB)\n",
      "Installing collected packages: pyparsing, kiwisolver, fonttools, cycler, contourpy, matplotlib\n",
      "\n",
      "   ---------------------------------------- 0/6 [pyparsing]\n",
      "   ---------------------------------------- 0/6 [pyparsing]\n",
      "   ---------------------------------------- 0/6 [pyparsing]\n",
      "   ---------------------------------------- 0/6 [pyparsing]\n",
      "   ------ --------------------------------- 1/6 [kiwisolver]\n",
      "   ------------- -------------------------- 2/6 [fonttools]\n",
      "   ------------- -------------------------- 2/6 [fonttools]\n",
      "   ------------- -------------------------- 2/6 [fonttools]\n",
      "   ------------- -------------------------- 2/6 [fonttools]\n",
      "   ------------- -------------------------- 2/6 [fonttools]\n",
      "   ------------- -------------------------- 2/6 [fonttools]\n",
      "   ------------- -------------------------- 2/6 [fonttools]\n",
      "   ------------- -------------------------- 2/6 [fonttools]\n",
      "   ------------- -------------------------- 2/6 [fonttools]\n",
      "   ------------- -------------------------- 2/6 [fonttools]\n",
      "   ------------- -------------------------- 2/6 [fonttools]\n",
      "   ------------- -------------------------- 2/6 [fonttools]\n",
      "   ------------- -------------------------- 2/6 [fonttools]\n",
      "   ------------- -------------------------- 2/6 [fonttools]\n",
      "   ------------- -------------------------- 2/6 [fonttools]\n",
      "   ------------- -------------------------- 2/6 [fonttools]\n",
      "   ------------- -------------------------- 2/6 [fonttools]\n",
      "   ------------- -------------------------- 2/6 [fonttools]\n",
      "   ------------- -------------------------- 2/6 [fonttools]\n",
      "   ------------- -------------------------- 2/6 [fonttools]\n",
      "   ------------- -------------------------- 2/6 [fonttools]\n",
      "   ------------- -------------------------- 2/6 [fonttools]\n",
      "   ------------- -------------------------- 2/6 [fonttools]\n",
      "   ------------- -------------------------- 2/6 [fonttools]\n",
      "   ------------- -------------------------- 2/6 [fonttools]\n",
      "   ------------- -------------------------- 2/6 [fonttools]\n",
      "   ------------- -------------------------- 2/6 [fonttools]\n",
      "   ------------- -------------------------- 2/6 [fonttools]\n",
      "   ------------- -------------------------- 2/6 [fonttools]\n",
      "   ------------- -------------------------- 2/6 [fonttools]\n",
      "   ------------- -------------------------- 2/6 [fonttools]\n",
      "   ------------- -------------------------- 2/6 [fonttools]\n",
      "   ------------- -------------------------- 2/6 [fonttools]\n",
      "   ------------- -------------------------- 2/6 [fonttools]\n",
      "   ------------- -------------------------- 2/6 [fonttools]\n",
      "   ------------- -------------------------- 2/6 [fonttools]\n",
      "   ------------- -------------------------- 2/6 [fonttools]\n",
      "   ------------- -------------------------- 2/6 [fonttools]\n",
      "   ------------- -------------------------- 2/6 [fonttools]\n",
      "   ------------- -------------------------- 2/6 [fonttools]\n",
      "   ------------- -------------------------- 2/6 [fonttools]\n",
      "   ------------- -------------------------- 2/6 [fonttools]\n",
      "   ------------- -------------------------- 2/6 [fonttools]\n",
      "   ------------- -------------------------- 2/6 [fonttools]\n",
      "   ------------- -------------------------- 2/6 [fonttools]\n",
      "   ------------- -------------------------- 2/6 [fonttools]\n",
      "   ------------- -------------------------- 2/6 [fonttools]\n",
      "   ------------- -------------------------- 2/6 [fonttools]\n",
      "   ------------- -------------------------- 2/6 [fonttools]\n",
      "   ------------- -------------------------- 2/6 [fonttools]\n",
      "   ------------- -------------------------- 2/6 [fonttools]\n",
      "   ------------- -------------------------- 2/6 [fonttools]\n",
      "   ------------- -------------------------- 2/6 [fonttools]\n",
      "   -------------------- ------------------- 3/6 [cycler]\n",
      "   -------------------------- ------------- 4/6 [contourpy]\n",
      "   -------------------------- ------------- 4/6 [contourpy]\n",
      "   -------------------------- ------------- 4/6 [contourpy]\n",
      "   --------------------------------- ------ 5/6 [matplotlib]\n",
      "   --------------------------------- ------ 5/6 [matplotlib]\n",
      "   --------------------------------- ------ 5/6 [matplotlib]\n",
      "   --------------------------------- ------ 5/6 [matplotlib]\n",
      "   --------------------------------- ------ 5/6 [matplotlib]\n",
      "   --------------------------------- ------ 5/6 [matplotlib]\n",
      "   --------------------------------- ------ 5/6 [matplotlib]\n",
      "   --------------------------------- ------ 5/6 [matplotlib]\n",
      "   --------------------------------- ------ 5/6 [matplotlib]\n",
      "   --------------------------------- ------ 5/6 [matplotlib]\n",
      "   --------------------------------- ------ 5/6 [matplotlib]\n",
      "   --------------------------------- ------ 5/6 [matplotlib]\n",
      "   --------------------------------- ------ 5/6 [matplotlib]\n",
      "   --------------------------------- ------ 5/6 [matplotlib]\n",
      "   --------------------------------- ------ 5/6 [matplotlib]\n",
      "   --------------------------------- ------ 5/6 [matplotlib]\n",
      "   --------------------------------- ------ 5/6 [matplotlib]\n",
      "   --------------------------------- ------ 5/6 [matplotlib]\n",
      "   --------------------------------- ------ 5/6 [matplotlib]\n",
      "   --------------------------------- ------ 5/6 [matplotlib]\n",
      "   --------------------------------- ------ 5/6 [matplotlib]\n",
      "   --------------------------------- ------ 5/6 [matplotlib]\n",
      "   --------------------------------- ------ 5/6 [matplotlib]\n",
      "   --------------------------------- ------ 5/6 [matplotlib]\n",
      "   --------------------------------- ------ 5/6 [matplotlib]\n",
      "   --------------------------------- ------ 5/6 [matplotlib]\n",
      "   --------------------------------- ------ 5/6 [matplotlib]\n",
      "   --------------------------------- ------ 5/6 [matplotlib]\n",
      "   --------------------------------- ------ 5/6 [matplotlib]\n",
      "   --------------------------------- ------ 5/6 [matplotlib]\n",
      "   --------------------------------- ------ 5/6 [matplotlib]\n",
      "   --------------------------------- ------ 5/6 [matplotlib]\n",
      "   --------------------------------- ------ 5/6 [matplotlib]\n",
      "   --------------------------------- ------ 5/6 [matplotlib]\n",
      "   --------------------------------- ------ 5/6 [matplotlib]\n",
      "   --------------------------------- ------ 5/6 [matplotlib]\n",
      "   --------------------------------- ------ 5/6 [matplotlib]\n",
      "   --------------------------------- ------ 5/6 [matplotlib]\n",
      "   --------------------------------- ------ 5/6 [matplotlib]\n",
      "   --------------------------------- ------ 5/6 [matplotlib]\n",
      "   --------------------------------- ------ 5/6 [matplotlib]\n",
      "   --------------------------------- ------ 5/6 [matplotlib]\n",
      "   --------------------------------- ------ 5/6 [matplotlib]\n",
      "   --------------------------------- ------ 5/6 [matplotlib]\n",
      "   --------------------------------- ------ 5/6 [matplotlib]\n",
      "   --------------------------------- ------ 5/6 [matplotlib]\n",
      "   --------------------------------- ------ 5/6 [matplotlib]\n",
      "   --------------------------------- ------ 5/6 [matplotlib]\n",
      "   --------------------------------- ------ 5/6 [matplotlib]\n",
      "   --------------------------------- ------ 5/6 [matplotlib]\n",
      "   --------------------------------- ------ 5/6 [matplotlib]\n",
      "   --------------------------------- ------ 5/6 [matplotlib]\n",
      "   --------------------------------- ------ 5/6 [matplotlib]\n",
      "   --------------------------------- ------ 5/6 [matplotlib]\n",
      "   --------------------------------- ------ 5/6 [matplotlib]\n",
      "   --------------------------------- ------ 5/6 [matplotlib]\n",
      "   --------------------------------- ------ 5/6 [matplotlib]\n",
      "   --------------------------------- ------ 5/6 [matplotlib]\n",
      "   --------------------------------- ------ 5/6 [matplotlib]\n",
      "   --------------------------------- ------ 5/6 [matplotlib]\n",
      "   --------------------------------- ------ 5/6 [matplotlib]\n",
      "   --------------------------------- ------ 5/6 [matplotlib]\n",
      "   --------------------------------- ------ 5/6 [matplotlib]\n",
      "   ---------------------------------------- 6/6 [matplotlib]\n",
      "\n",
      "Successfully installed contourpy-1.3.3 cycler-0.12.1 fonttools-4.59.0 kiwisolver-1.4.8 matplotlib-3.10.5 pyparsing-3.2.3\n"
     ]
    }
   ],
   "source": [
    "!pip install matplotlib"
   ]
  },
  {
   "cell_type": "code",
   "execution_count": 20,
   "id": "0faf7e3a",
   "metadata": {},
   "outputs": [
    {
     "data": {
      "image/png": "[encoded data removed]",
      "text/plain": [
       "<Figure size 800x600 with 1 Axes>"
      ]
     },
     "metadata": {},
     "output_type": "display_data"
    }
   ],
   "source": [
    "from sklearn.decomposition import PCA\n",
    "import matplotlib.pyplot as plt\n",
    "\n",
    "# Hacemos PCA a 2D para MiniLM\n",
    "pca = PCA(n_components=2)\n",
    "embeddings_pca = pca.fit_transform(embeddings_minilm)\n",
    "\n",
    "# Etiqueta por PDF\n",
    "pdf_names = [meta[\"pdf\"] for meta in metadatos]\n",
    "pdfs_unicos = list(set(pdf_names))\n",
    "colors = {pdf: i for i, pdf in enumerate(pdfs_unicos)}\n",
    "\n",
    "plt.figure(figsize=(8, 6))\n",
    "for pdf in pdfs_unicos:\n",
    "    idxs = [i for i, p in enumerate(pdf_names) if p == pdf]\n",
    "    plt.scatter(embeddings_pca[idxs, 0], embeddings_pca[idxs, 1], label=pdf, alpha=0.6)\n",
    "plt.legend(fontsize=8)\n",
    "plt.title(\"Visualización PCA de los embeddings (MiniLM)\")\n",
    "plt.xlabel(\"PCA1\")\n",
    "plt.ylabel(\"PCA2\")\n",
    "plt.show()\n"
   ]
  },
  {
   "cell_type": "markdown",
   "id": "b9ab66f9",
   "metadata": {},
   "source": [
    "Los embeddings de los chunks se agrupan bastante por documento."
   ]
  },
  {
   "cell_type": "markdown",
   "id": "50a48f78",
   "metadata": {},
   "source": [
    "---\n",
    "\n",
    "## 5. Construcción del índice BM25\n",
    "\n",
    "Se crea el índice BM25 a partir de los textos de los chunks, usando tokenización simple. Así se puede comparar la recuperación o usar recuperación híbrida.\n"
   ]
  },
  {
   "cell_type": "code",
   "execution_count": 12,
   "id": "63309dcc",
   "metadata": {},
   "outputs": [
    {
     "name": "stdout",
     "output_type": "stream",
     "text": [
      "Requirement already satisfied: rank_bm25 in d:\\tfm_rag_nor\\venv\\lib\\site-packages (0.2.2)\n",
      "Requirement already satisfied: numpy in d:\\tfm_rag_nor\\venv\\lib\\site-packages (from rank_bm25) (2.3.2)\n"
     ]
    }
   ],
   "source": [
    "!pip install rank_bm25"
   ]
  },
  {
   "cell_type": "code",
   "execution_count": 13,
   "id": "ec80d9d3",
   "metadata": {},
   "outputs": [
    {
     "name": "stdout",
     "output_type": "stream",
     "text": [
      "Índice BM25 creado y guardado.\n"
     ]
    }
   ],
   "source": [
    "from rank_bm25 import BM25Okapi\n",
    "import os\n",
    "import pickle\n",
    "\n",
    "tokenized_texts = [text.split() for text in texts]\n",
    "\n",
    "# índice BM25\n",
    "bm25 = BM25Okapi(tokenized_texts)\n",
    "\n",
    "os.makedirs(\"../data/bm25\", exist_ok=True)\n",
    "with open(\"../data/bm25/bm25_index.pkl\", \"wb\") as f:\n",
    "    pickle.dump(bm25, f)\n",
    "\n",
    "print(\"Índice BM25 creado y guardado.\")\n"
   ]
  },
  {
   "cell_type": "code",
   "execution_count": null,
   "id": "0c5d8e42",
   "metadata": {},
   "outputs": [],
   "source": []
  }
 ],
 "metadata": {
  "kernelspec": {
   "display_name": "venv",
   "language": "python",
   "name": "python3"
  },
  "language_info": {
   "codemirror_mode": {
    "name": "ipython",
    "version": 3
   },
   "file_extension": ".py",
   "mimetype": "text/x-python",
   "name": "python",
   "nbconvert_exporter": "python",
   "pygments_lexer": "ipython3",
   "version": "3.13.5"
  }
 },
 "nbformat": 4,
 "nbformat_minor": 5
}
