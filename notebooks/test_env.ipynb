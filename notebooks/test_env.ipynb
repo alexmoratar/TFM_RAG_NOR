{
 "cells": [
  {
   "cell_type": "code",
   "execution_count": 1,
   "id": "f9195c48",
   "metadata": {},
   "outputs": [
    {
     "name": "stderr",
     "output_type": "stream",
     "text": [
      "d:\\TFM_RAG_NOR\\venv\\Lib\\site-packages\\tqdm\\auto.py:21: TqdmWarning: IProgress not found. Please update jupyter and ipywidgets. See https://ipywidgets.readthedocs.io/en/stable/user_install.html\n",
      "  from .autonotebook import tqdm as notebook_tqdm\n"
     ]
    },
    {
     "name": "stdout",
     "output_type": "stream",
     "text": [
      "Python version: 3.13.5 (tags/v3.13.5:6cb20a2, Jun 11 2025, 16:15:46) [MSC v.1943 64 bit (AMD64)]\n",
      "Pandas version: 2.3.1\n",
      "Numpy version: 2.3.2\n",
      "PyMuPDF version: PyMuPDF 1.26.3: Python bindings for the MuPDF 1.26.3 library (rebased implementation).\n",
      "Python 3.13 running on win32 (64-bit).\n",
      "\n",
      "faiss version: 1.11.0\n",
      "sentence-transformers version: 5.0.0\n",
      "gradio version: 5.38.2\n",
      "yaml version: 6.0.2\n",
      "✅ Entorno RAG funcionando\n"
     ]
    }
   ],
   "source": [
    "import sys\n",
    "import pandas as pd\n",
    "import numpy as np\n",
    "import fitz\n",
    "import faiss\n",
    "import sentence_transformers\n",
    "import gradio as gr\n",
    "import yaml\n",
    "\n",
    "print(\"Python version:\", sys.version)\n",
    "print(\"Pandas version:\", pd.__version__)\n",
    "print(\"Numpy version:\", np.__version__)\n",
    "print(\"PyMuPDF version:\", fitz.__doc__)\n",
    "print(\"faiss version:\", faiss.__version__)\n",
    "print(\"sentence-transformers version:\", sentence_transformers.__version__)\n",
    "print(\"gradio version:\", gr.__version__)\n",
    "print(\"yaml version:\", yaml.__version__)\n",
    "print(\"✅ Entorno RAG funcionando\")\n"
   ]
  },
  {
   "cell_type": "code",
   "execution_count": null,
   "id": "4b87b688",
   "metadata": {},
   "outputs": [],
   "source": []
  }
 ],
 "metadata": {
  "kernelspec": {
   "display_name": "venv",
   "language": "python",
   "name": "python3"
  },
  "language_info": {
   "codemirror_mode": {
    "name": "ipython",
    "version": 3
   },
   "file_extension": ".py",
   "mimetype": "text/x-python",
   "name": "python",
   "nbconvert_exporter": "python",
   "pygments_lexer": "ipython3",
   "version": "3.13.5"
  }
 },
 "nbformat": 4,
 "nbformat_minor": 5
}
